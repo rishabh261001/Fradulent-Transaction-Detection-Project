{
 "cells": [
  {
   "cell_type": "markdown",
   "id": "8dfd6790",
   "metadata": {},
   "source": [
    "# INSAID TASK ROUND\n",
    "\n",
    "## NAME OF THE CANDIDATE: RISHABH SINGH\n",
    "\n",
    "\n",
    " \n",
    "\n"
   ]
  },
  {
   "cell_type": "markdown",
   "id": "a85a8e7b",
   "metadata": {},
   "source": [
    "<center><h2>Predicting Fraudulent Transactions </h2> </center>"
   ]
  },
  {
   "cell_type": "markdown",
   "id": "3007ddd6",
   "metadata": {},
   "source": [
    "## Model Elaboration:\n",
    "<ul>\n",
    "    <li>For Dataset preprocessing, we have mapped the type of transaction as 0,1,2,3,4 and droped the columns of Names.</li>\n",
    "    <li>We have chosen 3 Machine Leanring Algorithms:- KNN, SVM and Logistic Regression.</li>\n",
    "    <li>Since this a huge dataset, for training and testing the model we have chosen a small portion of the dataset. </li>\n",
    "    <li>Since this is an imbalanced dataset, the best way to check the quality of the results, we choose confusion matrix(as a heatmap) and classification report as metrics.</li>\n",
    "\n",
    "</ul>"
   ]
  },
  {
   "cell_type": "code",
   "execution_count": 53,
   "id": "150924a8",
   "metadata": {},
   "outputs": [],
   "source": [
    "import matplotlib.pyplot as plt\n",
    "import seaborn as sns\n",
    "import pandas as pd\n",
    "import numpy as np\n",
    "from sklearn.model_selection import train_test_split, GridSearchCV\n",
    "from sklearn.preprocessing import StandardScaler\n",
    "from sklearn.metrics import confusion_matrix,classification_report"
   ]
  },
  {
   "cell_type": "markdown",
   "id": "968ad68b",
   "metadata": {},
   "source": [
    "## Loading Dataset"
   ]
  },
  {
   "cell_type": "code",
   "execution_count": 29,
   "id": "ecf45bb2",
   "metadata": {},
   "outputs": [
    {
     "data": {
      "text/html": [
       "<div>\n",
       "<style scoped>\n",
       "    .dataframe tbody tr th:only-of-type {\n",
       "        vertical-align: middle;\n",
       "    }\n",
       "\n",
       "    .dataframe tbody tr th {\n",
       "        vertical-align: top;\n",
       "    }\n",
       "\n",
       "    .dataframe thead th {\n",
       "        text-align: right;\n",
       "    }\n",
       "</style>\n",
       "<table border=\"1\" class=\"dataframe\">\n",
       "  <thead>\n",
       "    <tr style=\"text-align: right;\">\n",
       "      <th></th>\n",
       "      <th>step</th>\n",
       "      <th>type</th>\n",
       "      <th>amount</th>\n",
       "      <th>nameOrig</th>\n",
       "      <th>oldbalanceOrg</th>\n",
       "      <th>newbalanceOrig</th>\n",
       "      <th>nameDest</th>\n",
       "      <th>oldbalanceDest</th>\n",
       "      <th>newbalanceDest</th>\n",
       "      <th>isFraud</th>\n",
       "      <th>isFlaggedFraud</th>\n",
       "    </tr>\n",
       "  </thead>\n",
       "  <tbody>\n",
       "    <tr>\n",
       "      <th>0</th>\n",
       "      <td>1</td>\n",
       "      <td>PAYMENT</td>\n",
       "      <td>9839.64</td>\n",
       "      <td>C1231006815</td>\n",
       "      <td>170136.0</td>\n",
       "      <td>160296.36</td>\n",
       "      <td>M1979787155</td>\n",
       "      <td>0.0</td>\n",
       "      <td>0.0</td>\n",
       "      <td>0</td>\n",
       "      <td>0</td>\n",
       "    </tr>\n",
       "    <tr>\n",
       "      <th>1</th>\n",
       "      <td>1</td>\n",
       "      <td>PAYMENT</td>\n",
       "      <td>1864.28</td>\n",
       "      <td>C1666544295</td>\n",
       "      <td>21249.0</td>\n",
       "      <td>19384.72</td>\n",
       "      <td>M2044282225</td>\n",
       "      <td>0.0</td>\n",
       "      <td>0.0</td>\n",
       "      <td>0</td>\n",
       "      <td>0</td>\n",
       "    </tr>\n",
       "    <tr>\n",
       "      <th>2</th>\n",
       "      <td>1</td>\n",
       "      <td>TRANSFER</td>\n",
       "      <td>181.00</td>\n",
       "      <td>C1305486145</td>\n",
       "      <td>181.0</td>\n",
       "      <td>0.00</td>\n",
       "      <td>C553264065</td>\n",
       "      <td>0.0</td>\n",
       "      <td>0.0</td>\n",
       "      <td>1</td>\n",
       "      <td>0</td>\n",
       "    </tr>\n",
       "    <tr>\n",
       "      <th>3</th>\n",
       "      <td>1</td>\n",
       "      <td>CASH_OUT</td>\n",
       "      <td>181.00</td>\n",
       "      <td>C840083671</td>\n",
       "      <td>181.0</td>\n",
       "      <td>0.00</td>\n",
       "      <td>C38997010</td>\n",
       "      <td>21182.0</td>\n",
       "      <td>0.0</td>\n",
       "      <td>1</td>\n",
       "      <td>0</td>\n",
       "    </tr>\n",
       "    <tr>\n",
       "      <th>4</th>\n",
       "      <td>1</td>\n",
       "      <td>PAYMENT</td>\n",
       "      <td>11668.14</td>\n",
       "      <td>C2048537720</td>\n",
       "      <td>41554.0</td>\n",
       "      <td>29885.86</td>\n",
       "      <td>M1230701703</td>\n",
       "      <td>0.0</td>\n",
       "      <td>0.0</td>\n",
       "      <td>0</td>\n",
       "      <td>0</td>\n",
       "    </tr>\n",
       "  </tbody>\n",
       "</table>\n",
       "</div>"
      ],
      "text/plain": [
       "   step      type    amount     nameOrig  oldbalanceOrg  newbalanceOrig  \\\n",
       "0     1   PAYMENT   9839.64  C1231006815       170136.0       160296.36   \n",
       "1     1   PAYMENT   1864.28  C1666544295        21249.0        19384.72   \n",
       "2     1  TRANSFER    181.00  C1305486145          181.0            0.00   \n",
       "3     1  CASH_OUT    181.00   C840083671          181.0            0.00   \n",
       "4     1   PAYMENT  11668.14  C2048537720        41554.0        29885.86   \n",
       "\n",
       "      nameDest  oldbalanceDest  newbalanceDest  isFraud  isFlaggedFraud  \n",
       "0  M1979787155             0.0             0.0        0               0  \n",
       "1  M2044282225             0.0             0.0        0               0  \n",
       "2   C553264065             0.0             0.0        1               0  \n",
       "3    C38997010         21182.0             0.0        1               0  \n",
       "4  M1230701703             0.0             0.0        0               0  "
      ]
     },
     "execution_count": 29,
     "metadata": {},
     "output_type": "execute_result"
    }
   ],
   "source": [
    "df_fraud=pd.read_csv(\"Fraud.csv\")\n",
    "df_fraud.head()"
   ]
  },
  {
   "cell_type": "code",
   "execution_count": 30,
   "id": "48ece176",
   "metadata": {},
   "outputs": [
    {
     "data": {
      "text/plain": [
       "step                int64\n",
       "type               object\n",
       "amount            float64\n",
       "nameOrig           object\n",
       "oldbalanceOrg     float64\n",
       "newbalanceOrig    float64\n",
       "nameDest           object\n",
       "oldbalanceDest    float64\n",
       "newbalanceDest    float64\n",
       "isFraud             int64\n",
       "isFlaggedFraud      int64\n",
       "dtype: object"
      ]
     },
     "execution_count": 30,
     "metadata": {},
     "output_type": "execute_result"
    }
   ],
   "source": [
    "df_fraud.dtypes #Cheking the Datatype of each attribute"
   ]
  },
  {
   "cell_type": "code",
   "execution_count": 31,
   "id": "9e6f25ba",
   "metadata": {},
   "outputs": [
    {
     "data": {
      "text/plain": [
       "step              0\n",
       "type              0\n",
       "amount            0\n",
       "nameOrig          0\n",
       "oldbalanceOrg     0\n",
       "newbalanceOrig    0\n",
       "nameDest          0\n",
       "oldbalanceDest    0\n",
       "newbalanceDest    0\n",
       "isFraud           0\n",
       "isFlaggedFraud    0\n",
       "dtype: int64"
      ]
     },
     "execution_count": 31,
     "metadata": {},
     "output_type": "execute_result"
    }
   ],
   "source": [
    "df_fraud.isnull().sum() ##Checking for Null Values"
   ]
  },
  {
   "cell_type": "code",
   "execution_count": 32,
   "id": "daa8040d",
   "metadata": {},
   "outputs": [
    {
     "data": {
      "text/plain": [
       "0    0.998709\n",
       "1    0.001291\n",
       "Name: isFraud, dtype: float64"
      ]
     },
     "execution_count": 32,
     "metadata": {},
     "output_type": "execute_result"
    }
   ],
   "source": [
    "df_fraud[\"isFraud\"].value_counts(normalize=True)"
   ]
  },
  {
   "cell_type": "code",
   "execution_count": 33,
   "id": "d3999bc8",
   "metadata": {},
   "outputs": [
    {
     "data": {
      "text/plain": [
       "0    0.999997\n",
       "1    0.000003\n",
       "Name: isFlaggedFraud, dtype: float64"
      ]
     },
     "execution_count": 33,
     "metadata": {},
     "output_type": "execute_result"
    }
   ],
   "source": [
    "df_fraud[\"isFlaggedFraud\"].value_counts(normalize=True)"
   ]
  },
  {
   "cell_type": "code",
   "execution_count": 34,
   "id": "4e56a1e3",
   "metadata": {},
   "outputs": [
    {
     "data": {
      "text/plain": [
       "type      isFraud\n",
       "CASH_IN   0          1399284\n",
       "CASH_OUT  0          2233384\n",
       "          1             4116\n",
       "DEBIT     0            41432\n",
       "PAYMENT   0          2151495\n",
       "TRANSFER  0           528812\n",
       "          1             4097\n",
       "Name: isFraud, dtype: int64"
      ]
     },
     "execution_count": 34,
     "metadata": {},
     "output_type": "execute_result"
    }
   ],
   "source": [
    "df_fraud.groupby(\"type\")[\"isFraud\"].value_counts()"
   ]
  },
  {
   "cell_type": "code",
   "execution_count": 35,
   "id": "9b692068",
   "metadata": {},
   "outputs": [
    {
     "data": {
      "text/plain": [
       "type      isFlaggedFraud\n",
       "CASH_IN   0                 1399284\n",
       "CASH_OUT  0                 2237500\n",
       "DEBIT     0                   41432\n",
       "PAYMENT   0                 2151495\n",
       "TRANSFER  0                  532893\n",
       "          1                      16\n",
       "Name: isFlaggedFraud, dtype: int64"
      ]
     },
     "execution_count": 35,
     "metadata": {},
     "output_type": "execute_result"
    }
   ],
   "source": [
    "df_fraud.groupby(\"type\")[\"isFlaggedFraud\"].value_counts()"
   ]
  },
  {
   "cell_type": "markdown",
   "id": "a48e6d5a",
   "metadata": {},
   "source": [
    "## Data Visualization & Feature Selection"
   ]
  },
  {
   "cell_type": "code",
   "execution_count": 39,
   "id": "88c94411",
   "metadata": {},
   "outputs": [
    {
     "name": "stderr",
     "output_type": "stream",
     "text": [
      "C:\\ProgramData\\Anaconda3\\lib\\site-packages\\pandas\\core\\series.py:4509: SettingWithCopyWarning: \n",
      "A value is trying to be set on a copy of a slice from a DataFrame\n",
      "\n",
      "See the caveats in the documentation: https://pandas.pydata.org/pandas-docs/stable/user_guide/indexing.html#returning-a-view-versus-a-copy\n",
      "  return super().replace(\n"
     ]
    },
    {
     "data": {
      "image/png": "[encoded data removed]",
      "text/plain": [
       "<Figure size 432x216 with 2 Axes>"
      ]
     },
     "metadata": {},
     "output_type": "display_data"
    }
   ],
   "source": [
    "df_fraud_ac=df_fraud[df_fraud[\"isFraud\"]==1]\n",
    "df_fraud_ac[\"isFraud\"].replace(1,\"Fraud\",inplace=True)\n",
    "bins=np.linspace(df_fraud_ac[\"newbalanceOrig\"].min(),df_fraud_ac[\"newbalanceOrig\"].max(),10)\n",
    "sns.set()\n",
    "g=sns.FacetGrid(df_fraud_ac,col=\"type\",hue=\"isFraud\",palette=\"Set1\",col_wrap=2)\n",
    "g.map(sns.histplot,\"newbalanceOrig\",bins=bins,ec=\"k\")\n",
    "plt.legend()\n",
    "plt.savefig(\"Figure1.png\")\n",
    "plt.show()"
   ]
  },
  {
   "cell_type": "code",
   "execution_count": 40,
   "id": "f9d68c85",
   "metadata": {},
   "outputs": [
    {
     "data": {
      "image/png": "[encoded data removed]",
      "text/plain": [
       "<Figure size 432x216 with 2 Axes>"
      ]
     },
     "metadata": {},
     "output_type": "display_data"
    }
   ],
   "source": [
    "bins_amt=np.linspace(df_fraud_ac[\"amount\"].min(),df_fraud_ac[\"amount\"].max(),20)\n",
    "sns.set()\n",
    "g=sns.FacetGrid(df_fraud_ac,col=\"type\",hue=\"isFraud\",palette=\"Set1\",col_wrap=2)\n",
    "g.map(sns.histplot,\"amount\",bins=bins_amt,ec=\"k\")\n",
    "plt.legend()\n",
    "plt.savefig(\"Figure3.png\")\n",
    "plt.show()"
   ]
  },
  {
   "cell_type": "code",
   "execution_count": 41,
   "id": "85f38adb",
   "metadata": {},
   "outputs": [
    {
     "data": {
      "text/plain": [
       "step              0.031578\n",
       "amount            0.076688\n",
       "oldbalanceOrg     0.010154\n",
       "newbalanceOrig   -0.008148\n",
       "oldbalanceDest   -0.005885\n",
       "newbalanceDest    0.000535\n",
       "isFraud           1.000000\n",
       "isFlaggedFraud    0.044109\n",
       "Name: isFraud, dtype: float64"
      ]
     },
     "execution_count": 41,
     "metadata": {},
     "output_type": "execute_result"
    }
   ],
   "source": [
    "df_fraud.corr()[\"isFraud\"]"
   ]
  },
  {
   "cell_type": "code",
   "execution_count": 42,
   "id": "68f0f3b5",
   "metadata": {},
   "outputs": [],
   "source": [
    "df_fraud[\"type\"].replace(to_replace=[\"CASH_IN\",\"DEBIT\",\"PAYMENT\",\"TRANSFER\",\"CASH_OUT\"],value=[0,1,2,3,4],inplace=True)"
   ]
  },
  {
   "cell_type": "markdown",
   "id": "dbfe5c00",
   "metadata": {},
   "source": [
    "## Key Factors to Predict Fraudulent Customers\n",
    "<p> <b>Step</b>, <b>Type</b>, <b>Amount</b>, <b>OldbalanceOrg</b> and <b>NewbalanceOrig</b> are key factors to identify fraudulent Customers because these features have the most influence for a transaction to be fradulent. For example, if we take \"Type\" we can see only \"Transfer\" and \"Cash-out\" have the fradulent transactions, thus to detect/identify a fraud, we can take extra care of the type of transaction </p>"
   ]
  },
  {
   "cell_type": "code",
   "execution_count": 43,
   "id": "e6ad7164",
   "metadata": {},
   "outputs": [
    {
     "data": {
      "text/html": [
       "<div>\n",
       "<style scoped>\n",
       "    .dataframe tbody tr th:only-of-type {\n",
       "        vertical-align: middle;\n",
       "    }\n",
       "\n",
       "    .dataframe tbody tr th {\n",
       "        vertical-align: top;\n",
       "    }\n",
       "\n",
       "    .dataframe thead th {\n",
       "        text-align: right;\n",
       "    }\n",
       "</style>\n",
       "<table border=\"1\" class=\"dataframe\">\n",
       "  <thead>\n",
       "    <tr style=\"text-align: right;\">\n",
       "      <th></th>\n",
       "      <th>step</th>\n",
       "      <th>type</th>\n",
       "      <th>amount</th>\n",
       "      <th>oldbalanceOrg</th>\n",
       "      <th>newbalanceOrig</th>\n",
       "    </tr>\n",
       "  </thead>\n",
       "  <tbody>\n",
       "    <tr>\n",
       "      <th>0</th>\n",
       "      <td>1</td>\n",
       "      <td>2</td>\n",
       "      <td>9839.64</td>\n",
       "      <td>170136.00</td>\n",
       "      <td>160296.36</td>\n",
       "    </tr>\n",
       "    <tr>\n",
       "      <th>1</th>\n",
       "      <td>1</td>\n",
       "      <td>2</td>\n",
       "      <td>1864.28</td>\n",
       "      <td>21249.00</td>\n",
       "      <td>19384.72</td>\n",
       "    </tr>\n",
       "    <tr>\n",
       "      <th>2</th>\n",
       "      <td>1</td>\n",
       "      <td>3</td>\n",
       "      <td>181.00</td>\n",
       "      <td>181.00</td>\n",
       "      <td>0.00</td>\n",
       "    </tr>\n",
       "    <tr>\n",
       "      <th>3</th>\n",
       "      <td>1</td>\n",
       "      <td>4</td>\n",
       "      <td>181.00</td>\n",
       "      <td>181.00</td>\n",
       "      <td>0.00</td>\n",
       "    </tr>\n",
       "    <tr>\n",
       "      <th>4</th>\n",
       "      <td>1</td>\n",
       "      <td>2</td>\n",
       "      <td>11668.14</td>\n",
       "      <td>41554.00</td>\n",
       "      <td>29885.86</td>\n",
       "    </tr>\n",
       "    <tr>\n",
       "      <th>...</th>\n",
       "      <td>...</td>\n",
       "      <td>...</td>\n",
       "      <td>...</td>\n",
       "      <td>...</td>\n",
       "      <td>...</td>\n",
       "    </tr>\n",
       "    <tr>\n",
       "      <th>6362615</th>\n",
       "      <td>743</td>\n",
       "      <td>4</td>\n",
       "      <td>339682.13</td>\n",
       "      <td>339682.13</td>\n",
       "      <td>0.00</td>\n",
       "    </tr>\n",
       "    <tr>\n",
       "      <th>6362616</th>\n",
       "      <td>743</td>\n",
       "      <td>3</td>\n",
       "      <td>6311409.28</td>\n",
       "      <td>6311409.28</td>\n",
       "      <td>0.00</td>\n",
       "    </tr>\n",
       "    <tr>\n",
       "      <th>6362617</th>\n",
       "      <td>743</td>\n",
       "      <td>4</td>\n",
       "      <td>6311409.28</td>\n",
       "      <td>6311409.28</td>\n",
       "      <td>0.00</td>\n",
       "    </tr>\n",
       "    <tr>\n",
       "      <th>6362618</th>\n",
       "      <td>743</td>\n",
       "      <td>3</td>\n",
       "      <td>850002.52</td>\n",
       "      <td>850002.52</td>\n",
       "      <td>0.00</td>\n",
       "    </tr>\n",
       "    <tr>\n",
       "      <th>6362619</th>\n",
       "      <td>743</td>\n",
       "      <td>4</td>\n",
       "      <td>850002.52</td>\n",
       "      <td>850002.52</td>\n",
       "      <td>0.00</td>\n",
       "    </tr>\n",
       "  </tbody>\n",
       "</table>\n",
       "<p>6362620 rows × 5 columns</p>\n",
       "</div>"
      ],
      "text/plain": [
       "         step  type      amount  oldbalanceOrg  newbalanceOrig\n",
       "0           1     2     9839.64      170136.00       160296.36\n",
       "1           1     2     1864.28       21249.00        19384.72\n",
       "2           1     3      181.00         181.00            0.00\n",
       "3           1     4      181.00         181.00            0.00\n",
       "4           1     2    11668.14       41554.00        29885.86\n",
       "...       ...   ...         ...            ...             ...\n",
       "6362615   743     4   339682.13      339682.13            0.00\n",
       "6362616   743     3  6311409.28     6311409.28            0.00\n",
       "6362617   743     4  6311409.28     6311409.28            0.00\n",
       "6362618   743     3   850002.52      850002.52            0.00\n",
       "6362619   743     4   850002.52      850002.52            0.00\n",
       "\n",
       "[6362620 rows x 5 columns]"
      ]
     },
     "execution_count": 43,
     "metadata": {},
     "output_type": "execute_result"
    }
   ],
   "source": [
    "Feature=df_fraud[[\"step\",\"type\",\"amount\",\"oldbalanceOrg\",\"newbalanceOrig\"]]\n",
    "Feature"
   ]
  },
  {
   "cell_type": "markdown",
   "id": "ecb7df61",
   "metadata": {},
   "source": [
    "## Creation of Model"
   ]
  },
  {
   "cell_type": "code",
   "execution_count": 44,
   "id": "53a384ad",
   "metadata": {},
   "outputs": [],
   "source": [
    "Eval_Data=np.array(df_fraud.sample(frac=0.03)[[\"step\",\"type\",\"amount\",\"oldbalanceOrg\",\"newbalanceOrig\",\"isFraud\"]])\n",
    "X=Eval_Data[:,0:5]\n",
    "Y=Eval_Data[:,-1]\n",
    "transform= StandardScaler()\n",
    "X_transform=transform.fit_transform(X)\n",
    "X_train,X_test,Y_train,Y_test=train_test_split(X_transform,Y,random_state=2,test_size=0.3)"
   ]
  },
  {
   "cell_type": "markdown",
   "id": "82969cf9",
   "metadata": {},
   "source": [
    "### Logistic Regresssion"
   ]
  },
  {
   "cell_type": "code",
   "execution_count": 45,
   "id": "effc741b",
   "metadata": {},
   "outputs": [
    {
     "name": "stdout",
     "output_type": "stream",
     "text": [
      "Score of Logistic Regression: 99.90\n"
     ]
    }
   ],
   "source": [
    "from sklearn.linear_model import LogisticRegression\n",
    "clf_log=LogisticRegression()\n",
    "clf_log.fit(X_train,Y_train)\n",
    "Y_pred_log=clf_log.predict(X_test)\n",
    "print(\"Score of Logistic Regression:\",\"%.2f\"%(100*clf_log.score(X_test,Y_test)))"
   ]
  },
  {
   "cell_type": "markdown",
   "id": "d77c8ac2",
   "metadata": {},
   "source": [
    "### KNN"
   ]
  },
  {
   "cell_type": "code",
   "execution_count": 46,
   "id": "e69e9b5f",
   "metadata": {},
   "outputs": [
    {
     "name": "stdout",
     "output_type": "stream",
     "text": [
      "Score of KNN: 99.90\n"
     ]
    }
   ],
   "source": [
    "from sklearn.neighbors import KNeighborsClassifier\n",
    "clf_knn= KNeighborsClassifier()\n",
    "clf_knn.fit(X_train,Y_train)\n",
    "Y_pred_knn=clf_knn.predict(X_test)\n",
    "print(\"Score of KNN:\",\"%.2f\"%(100*clf_knn.score(X_test,Y_test)))"
   ]
  },
  {
   "cell_type": "markdown",
   "id": "1eb683ba",
   "metadata": {},
   "source": [
    "### Support Vector Machine"
   ]
  },
  {
   "cell_type": "code",
   "execution_count": null,
   "id": "1e418a04",
   "metadata": {},
   "outputs": [],
   "source": [
    "from sklearn.svm import SVC\n",
    "clf_svm= SVC()\n",
    "clf_svm.fit(X_train,Y_train)\n",
    "Y_pred_svm=clf_svm.predict(X_test)\n",
    "print(\"Score of Support Vector Machine:\",\"%.2f\"%(100*clf_svm.score(X_test,Y_test)))"
   ]
  },
  {
   "cell_type": "markdown",
   "id": "fc65e77d",
   "metadata": {},
   "source": [
    "## Confusion Matrix and Classification Report for each algorithm"
   ]
  },
  {
   "cell_type": "code",
   "execution_count": 48,
   "id": "89e60010",
   "metadata": {},
   "outputs": [],
   "source": [
    "def plot_confusion_matrix(Y_true,Y_pred,NameofTheAlgorithm=\"Logistic Regression\"):\n",
    "    cm=confusion_matrix(Y_true,Y_pred)\n",
    "    figure=plt.figure(figsize=(10,11))\n",
    "    sns.heatmap(cm,annot=True,fmt=\"d\",xticklabels=[\"Non-Fraud\",\"Fraud\"],yticklabels=[\"Non-Fraud\",\"Fraud\"])\n",
    "    plt.xlabel(\"Predicted Values\",fontsize=15)\n",
    "    plt.ylabel(\"Actual Values\",fontsize=15)\n",
    "    plt.title(\"Confusion Matrix for Fraud Detection(\"+NameofTheAlgorithm+\")\",fontsize=20)\n",
    "    plt.savefig(\"Confusion Matrix for Fraud Detection(\"+NameofTheAlgorithm+\")\")\n",
    "    plt.show()"
   ]
  },
  {
   "cell_type": "code",
   "execution_count": 49,
   "id": "1d481d06",
   "metadata": {},
   "outputs": [
    {
     "data": {
      "image/png": "[encoded data removed]",
      "text/plain": [
       "<Figure size 720x792 with 2 Axes>"
      ]
     },
     "metadata": {},
     "output_type": "display_data"
    }
   ],
   "source": [
    " plot_confusion_matrix(Y_test,Y_pred_log,\"Logistic Regression\") "
   ]
  },
  {
   "cell_type": "code",
   "execution_count": 50,
   "id": "5f1d85db",
   "metadata": {},
   "outputs": [
    {
     "data": {
      "image/png": "[encoded data removed]",
      "text/plain": [
       "<Figure size 720x792 with 2 Axes>"
      ]
     },
     "metadata": {},
     "output_type": "display_data"
    }
   ],
   "source": [
    "plot_confusion_matrix(Y_test,Y_pred_knn,\"KNN\")"
   ]
  },
  {
   "cell_type": "code",
   "execution_count": 51,
   "id": "5b2c3d54",
   "metadata": {},
   "outputs": [
    {
     "data": {
      "image/png": "[encoded data removed]",
      "text/plain": [
       "<Figure size 720x792 with 2 Axes>"
      ]
     },
     "metadata": {},
     "output_type": "display_data"
    }
   ],
   "source": [
    "plot_confusion_matrix(Y_test,Y_pred_svm,\"Support Vector Machine\")"
   ]
  },
  {
   "cell_type": "code",
   "execution_count": 54,
   "id": "cb840a12",
   "metadata": {},
   "outputs": [],
   "source": [
    "cr_log=classification_report(Y_test,Y_pred_log)\n",
    "cr_svm=classification_report(Y_test,Y_pred_svm)\n",
    "cr_knn=classification_report(Y_test,Y_pred_knn)"
   ]
  },
  {
   "cell_type": "code",
   "execution_count": 56,
   "id": "c4440cda",
   "metadata": {},
   "outputs": [
    {
     "name": "stdout",
     "output_type": "stream",
     "text": [
      "              precision    recall  f1-score   support\n",
      "\n",
      "         0.0       1.00      1.00      1.00     57186\n",
      "         1.0       0.95      0.26      0.40        78\n",
      "\n",
      "    accuracy                           1.00     57264\n",
      "   macro avg       0.98      0.63      0.70     57264\n",
      "weighted avg       1.00      1.00      1.00     57264\n",
      "\n"
     ]
    }
   ],
   "source": [
    "print(cr_log) ##Logistic Regression"
   ]
  },
  {
   "cell_type": "code",
   "execution_count": 57,
   "id": "d659fb50",
   "metadata": {},
   "outputs": [
    {
     "name": "stdout",
     "output_type": "stream",
     "text": [
      "              precision    recall  f1-score   support\n",
      "\n",
      "         0.0       1.00      1.00      1.00     57186\n",
      "         1.0       1.00      0.24      0.39        78\n",
      "\n",
      "    accuracy                           1.00     57264\n",
      "   macro avg       1.00      0.62      0.70     57264\n",
      "weighted avg       1.00      1.00      1.00     57264\n",
      "\n"
     ]
    }
   ],
   "source": [
    "print(cr_svm) ##Support Vector Machine"
   ]
  },
  {
   "cell_type": "code",
   "execution_count": 58,
   "id": "19625b17",
   "metadata": {},
   "outputs": [
    {
     "name": "stdout",
     "output_type": "stream",
     "text": [
      "              precision    recall  f1-score   support\n",
      "\n",
      "         0.0       1.00      1.00      1.00     57186\n",
      "         1.0       1.00      0.23      0.38        78\n",
      "\n",
      "    accuracy                           1.00     57264\n",
      "   macro avg       1.00      0.62      0.69     57264\n",
      "weighted avg       1.00      1.00      1.00     57264\n",
      "\n"
     ]
    }
   ],
   "source": [
    "print(cr_knn) ##KNN"
   ]
  },
  {
   "cell_type": "markdown",
   "id": "382247cc",
   "metadata": {},
   "source": [
    "## A Few Solutions:\n",
    "<ul>\n",
    "    <li>We have seen that most of the frauds have taken place in Transfer and Cash-Out,so the company can take extra measures in the form strict checks. </li>\n",
    "    <li>If the \"newbalanceOrig\" is nearing to 0.0 after the transaction, it needs to be flagged and checked thoroughly. </li>\n",
    "    <li>Recommending Strong Credentials for the users.</li>\n",
    "</ul>\n"
   ]
  },
  {
   "cell_type": "code",
   "execution_count": null,
   "id": "3f915a3c",
   "metadata": {},
   "outputs": [],
   "source": []
  }
 ],
 "metadata": {
  "kernelspec": {
   "display_name": "Python 3",
   "language": "python",
   "name": "python3"
  },
  "language_info": {
   "codemirror_mode": {
    "name": "ipython",
    "version": 3
   },
   "file_extension": ".py",
   "mimetype": "text/x-python",
   "name": "python",
   "nbconvert_exporter": "python",
   "pygments_lexer": "ipython3",
   "version": "3.8.8"
  }
 },
 "nbformat": 4,
 "nbformat_minor": 5
}
